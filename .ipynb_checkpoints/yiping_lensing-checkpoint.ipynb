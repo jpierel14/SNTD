{
 "cells": [
  {
   "cell_type": "code",
   "execution_count": 1,
   "metadata": {
    "collapsed": true
   },
   "outputs": [],
   "source": [
    "import astropy.io.fits as pyfits\n",
    "import numpy as np\n",
    "import sntd,sncosmo\n",
    "from sntd import models,simulation\n",
    "import lens_funcs as lf\n",
    "import matplotlib.pyplot as plt\n",
    "from astropy.table import Table\n",
    "from scipy.interpolate import interp1d\n",
    "info=[('BELLSJ1215+0047_SIE.fits',2.5,.64,1.3),\n",
    "      ('BELLSJ0830+5116_SIE.fits',6.9,.53,1.33),\n",
    "      ('BELLSJ1611+1705_SIE.fits',2.8,.48,1.21),\n",
    "      ('SLACSJ0143-1006_SIE.fits',1.9,.22,1.1),\n",
    "      ('BELLSJ1601+2138_SIE.fits',2.5,.54,1.45),\n",
    "      ('SLACSJ1103+5322_SIE.fits',3.1,.16,.74),\n",
    "      ('BELLSJ1522+2910_SIE.fits',2.6,.56,1.31),\n",
    "      ('BELLSJ0801+4727_SIE.fits',2.5,.48,1.52),\n",
    "      ('SLACSJ0330-0020_SIE.fits',2.4,.35,1.07),\n",
    "      ('BELLSJ1631+1854_SIE.fits',9.2,.41,1.09)]\n",
    "\n",
    "                            "
   ]
  },
  {
   "cell_type": "code",
   "execution_count": 9,
   "metadata": {},
   "outputs": [
    {
     "name": "stdout",
     "output_type": "stream",
     "text": [
      "kappa:[0.30090564], gamma: 0.30090564267906345, mu: [2.51137203], td: [314.30705702]\n",
      "kappa:[0.42806951], gamma: 0.7146296211192439, mu: [6.95115546], td: [67.77014986]\n",
      "kappa:[0.30126845], gamma: 0.30126845202135394, mu: [2.51595685], td: [55.73451693]\n",
      "kappa:[0.25095339], gamma: 0.2509533872165326, mu: [2.0076563], td: [63.31784025]\n",
      "kappa:[0.30184107], gamma: 0.30184107076029165, mu: [2.5232272], td: [99.63361775]\n",
      "kappa:[0.3409895], gamma: 0.6570176499041472, mu: [3.14444643], td: [12.61940359]\n",
      "kappa:[0.30825378], gamma: 0.6662626051015046, mu: [2.60761339], td: [51.055393]\n",
      "kappa:[0.3088243], gamma: 1.1055885919404354, mu: [2.61539511], td: [24.00212557]\n",
      "kappa:[0.29508689], gamma: 0.8319058062079298, mu: [2.44005864], td: [77.99441929]\n",
      "kappa:[0.44749541], gamma: 0.5662586137335676, mu: [9.52297637], td: [27.81588224]\n",
      "kappa:0.3050474273349617, gamma: 0.6116381318188574, mu: 2.5654202930866803, td: 59.52617858812357\n"
     ]
    }
   ],
   "source": [
    "kappas=[]\n",
    "gammas=[]\n",
    "tds=[]\n",
    "mus=[]\n",
    "for fname,m,z_lens,z_source in info:\n",
    "    #fname=‘xxx_SIE.fits’ # the name of the SIE file\n",
    "    #z_lens=xxx\n",
    "    #z_source=xxx\n",
    "\n",
    "    hdulist=pyfits.open(fname)\n",
    "    spar=((hdulist[1].data)['spar']).copy()  # source parameter\n",
    "    lpar=((hdulist[2].data)['lpar']).copy() # lens parameter\n",
    "\n",
    "    beta_x0=spar[1] # source centroid x\n",
    "    beta_y0=spar[2] # source centroid y\n",
    "\n",
    "    # get n_lens and lensmodel from the header\n",
    "    n_lens=hdulist[0].header['N_Lens']\n",
    "    lensmodel=[]\n",
    "    for i_lens in np.arange(n_lens):\n",
    "        lensmodel.append(hdulist[0].header['lmodel_'+str(i_lens+1)])\n",
    "\n",
    "    # find all images of (beta_x0, beta_y0)\n",
    "    theta_x, theta_y=lf.findimg(beta_x0, beta_y0, lpar, lensmodel, n_lens=n_lens, min_distance=0.1, search_hw=5.0)\n",
    "    # magnifications\n",
    "    mu=1./lf.inverse_magnification_map(theta_x, theta_y, lpar, lensmodel, n_lens=n_lens)\n",
    "    # time delays\n",
    "    tdelay=lf.tdelay(theta_x, theta_y, beta_x0, beta_y0, lpar, n_lens, lensmodel, z_lens, z_source, omega_m=0.3, omega_lambda=0.7, h=0.7)\n",
    "    rel_tdelay=tdelay-tdelay.min()\n",
    "    lensing_params=lf.calculate_kappa_gamma(theta_x, theta_y, lpar, lensmodel, n_lens=n_lens)\n",
    "    print('kappa:'+str(lensing_params['kappa'][rel_tdelay==0])\n",
    "          +', gamma: '+str(np.sqrt(lensing_params['gamma1']**2+lensing_params['gamma2']**2)[0])+\n",
    "         ', mu: '+str(mu[rel_tdelay==0])+', td: '+str(rel_tdelay[rel_tdelay!=0]))\n",
    "    gammas.append(np.sqrt(lensing_params['gamma1']**2+lensing_params['gamma2']**2)[0])\n",
    "    kappas.append(lensing_params['kappa'][rel_tdelay==0])\n",
    "    mus.append(mu[rel_tdelay==0])\n",
    "    tds.append(rel_tdelay[rel_tdelay!=0])\n",
    "print('kappa:'+str(np.median(kappas))\n",
    "          +', gamma: '+str(np.median(gammas))+\n",
    "         ', mu: '+str(np.median(mus))+', td: '+str(np.median(tds)))\n",
    "        "
   ]
  },
  {
   "cell_type": "code",
   "execution_count": 52,
   "metadata": {},
   "outputs": [],
   "source": [
    "modname= sncosmo.SALT2Source(modeldir='salt2-extended')\n",
    "snType='Ia'\n",
    "z=1.4\n",
    "bandlist = ['F110W']\n",
    "t=np.arange(-20,50,5)\n",
    "mF110W = np.array([25.0, 25.5, 25.8, 26.1, 26.4, 26.7, 27.0, 27.3, 27.6, 28.5])\n",
    "SNR04  = np.array([25.8, 16.5, 12.6,  9.6,  7.3,  5.5,  4.2,  3.2,  2.4,  1.1])\n",
    "lcs = simulation.createMultiplyImagedSN(\n",
    "            modname, snType, z,z_lens=.53, bands=bandlist,timeArr=t,\n",
    "            zp=[26.8], cadence=5., epochs=30.,skynoiseRange=(.001,.005),gain=70. , time_delays=[10., 78.],\n",
    "            magnifications=[15,10], objectName='BELLS J0830+5116--Type Ia', telescopename='HST',\n",
    "            microlensing_type=None,scatter=True,av_host=None,minsnr=5.0,snrFunc=interp1d(mF110W,SNR04,'quadratic'))"
   ]
  },
  {
   "cell_type": "code",
   "execution_count": 61,
   "metadata": {},
   "outputs": [
    {
     "data": {
      "image/png": "[encoded data removed]",
      "text/plain": [
       "<matplotlib.figure.Figure at 0x1127d5990>"
      ]
     },
     "metadata": {},
     "output_type": "display_data"
    }
   ],
   "source": [
    "reload(models)\n",
    "sources={'NewlingSource':models.NewlingSource}#,\n",
    "     #    'KarpenkaSource':models.KarpenkaSource,\n",
    "     #    'BazinSource':models.BazinSource,\n",
    "     #    'PierelSource':models.PierelSource}\n",
    "\n",
    "params={'NewlingSource':{'A':(.8*np.max(lcs.images['S1'].table['flux']),np.max(1.3*lcs.images['S1'].table['flux'])),\n",
    "                         'psi':(0,10),'sigma':(0,10),'k':(0,10),'phi':(0,10)},\n",
    "         'KarpenkaSource':{'A':(.8*np.max(lcs.images['S1'].table['flux']),np.max(1.3*lcs.images['S1'].table['flux'])),\n",
    "                           'B':(0,10),'t1':(0,10),'rise':(0,10),'fall':(0,10)},\n",
    "         'BazinSource':{'amplitude':(.8*np.max(lcs.images['S1'].table['flux']),np.max(1.3*lcs.images['S1'].table['flux'])),\n",
    "                        'B':(0,10),'fall':(0,10),'rise':(0,10)},\n",
    "         'PierelSource':{'amplitude':(90,105),'k':(1,3),'sigma':(10,20),'s':(5,20)}}\n",
    "\n",
    "fig=plt.figure()\n",
    "ax=fig.gca()\n",
    "#ax.scatter(lcs.images['S1'].table['time'],lcs.images['S1'].table['flux'])\n",
    "for source in sources.keys():\n",
    "    mod=sncosmo.Model(sources[source](lcs.images['S1'].table))\n",
    "    #print(mod.minwave(),mod.maxwave())\n",
    "    mod.set(t0=10.)\n",
    "    res,modRes=sncosmo.nest_lc(lcs.images['S1'].table,mod,\n",
    "                               vparam_names=sources[source]._param_names,\n",
    "                               bounds=params[source],\n",
    "                               guess_amplitude_bound=False,maxiter=1000,npoints=200)\n",
    "    ax.plot(np.arange(-20,50,.1),modRes.bandflux('F110W',np.arange(-20,50,.1),zp=26.8,zpsys='ab'))\n",
    "    #sncosmo.plot_lc(data=lcs.images['S1'].table,model=modRes,errors=res.errors)\n",
    "plt.show()\n",
    "    \n",
    "    "
   ]
  },
  {
   "cell_type": "code",
   "execution_count": null,
   "metadata": {
    "collapsed": true
   },
   "outputs": [],
   "source": []
  }
 ],
 "metadata": {
  "kernelspec": {
   "display_name": "Python 2",
   "language": "python",
   "name": "python2"
  },
  "language_info": {
   "codemirror_mode": {
    "name": "ipython",
    "version": 2
   },
   "file_extension": ".py",
   "mimetype": "text/x-python",
   "name": "python",
   "nbconvert_exporter": "python",
   "pygments_lexer": "ipython2",
   "version": "2.7.13"
  }
 },
 "nbformat": 4,
 "nbformat_minor": 2
}
