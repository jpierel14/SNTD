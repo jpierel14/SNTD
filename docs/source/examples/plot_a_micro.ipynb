{
  "cells": [
    {
      "cell_type": "code",
      "execution_count": null,
      "metadata": {
        "collapsed": false
      },
      "outputs": [],
      "source": [
        "%matplotlib inline"
      ]
    },
    {
      "cell_type": "markdown",
      "metadata": {},
      "source": [
        "\n# Microlensing Analysis\n\nSimulate and fit for microlensing.\n"
      ]
    },
    {
      "cell_type": "markdown",
      "metadata": {},
      "source": [
        "This notebook gives examples on creating microlensing for simulations,\nincluding microlensing in light curves, and fitting for a microlensing uncertainty.\n\n## `Run this notebook with Google Colab <https://colab.research.google.com/github/jpierel14/sntd/blob/master/notebooks/docs_micro.ipynb>`_.\n\n"
      ]
    },
    {
      "cell_type": "code",
      "execution_count": null,
      "metadata": {
        "collapsed": false
      },
      "outputs": [],
      "source": [
        "import sntd\nimport numpy as np\nfrom sklearn.gaussian_process.kernels import RBF\nnp.random.seed(3)\n\nmyML=sntd.realizeMicro(nray=100,kappas=1,kappac=.3,gamma=.4)\ntime,dmag=sntd.microcaustic_field_to_curve(field=myML,time=np.arange(0,200,.1),zl=.5,zs=1.5,plot=True,loc=[550,750])"
      ]
    },
    {
      "cell_type": "markdown",
      "metadata": {},
      "source": [
        "**Including Microlensing in Simulations**\nNow we can take the simulated microcaustic \nand use it to include microlensing in a \nmultiply-imaged supernova simulation. See the\n`sphx_glr_examples_plot_b_sim.py` example for more simulation\ndetails.\n\n"
      ]
    },
    {
      "cell_type": "code",
      "execution_count": null,
      "metadata": {
        "collapsed": false
      },
      "outputs": [],
      "source": [
        "myMISN = sntd.createMultiplyImagedSN(sourcename='salt2-extended', snType='Ia', redshift=1.5,z_lens=.5, bands=['F110W','F125W','F160W'],\n        zp=[26.8,26.5,26.2], cadence=4., epochs=25.,time_delays=[20., 40.], magnifications=[12,8],ml_loc=[[600,800],[550,750]],\n        objectName='My Type Ia SN',telescopename='HST', microlensing_type='AchromaticMicrolensing',microlensing_params=myML)\nmyMISN.plot_object(showMicro=True)"
      ]
    },
    {
      "cell_type": "markdown",
      "metadata": {},
      "source": [
        "**Measuring Addition Microlensing Uncertainty**\nNow we can take the simulated light curve with microlensing \nand fit for an additional microlensing uncertainty term. See the\n`sphx_glr_examples_plot_c_fitting.py` example for fitting\ndetails. We start by assuming the correct shape/color parameters.\n\n"
      ]
    },
    {
      "cell_type": "code",
      "execution_count": null,
      "metadata": {
        "collapsed": false
      },
      "outputs": [],
      "source": [
        "fitCurves = sntd.fit_data(myMISN, snType='Ia', models='salt2-extended', bands=['F110W','F125W', 'F160W'],\n                                  params=['x0', 't0'], \n                                  constants={'z': 1.5,'x1':myMISN.images['image_1'].simMeta['x1'],'c':myMISN.images['image_1'].simMeta['c']}, \n                                  bounds={'t0': (-40, 40),'c': (-1, 1), 'x1': (-2, 2), },\n                                  method='parallel', microlensing='achromatic',\n                                  nMicroSamples=40, npoints=100, minsnr=5,kernel=RBF(1.,(.0001,1000)))\nprint('Time Delays:',fitCurves.parallel.time_delays)\nfitCurves.plot_object(showFit=True,showMicro=True)\nfor image in fitCurves.images.keys():\n\tprint(image,'Microlensing Uncertainty:',fitCurves.images[image].param_quantiles['micro'],' Days')\n\nfitCurves.plot_microlensing_fit(show_all_samples=True)"
      ]
    },
    {
      "cell_type": "markdown",
      "metadata": {},
      "source": [
        "We see that this extra uncertainty is quite small here, and indeed\nwhen fitting for x1/c as well, the time delay measurement is very\nclose to the true value of 20 days. \n\n"
      ]
    },
    {
      "cell_type": "code",
      "execution_count": null,
      "metadata": {
        "collapsed": false
      },
      "outputs": [],
      "source": [
        "fitCurves = sntd.fit_data(myMISN, snType='Ia', models='salt2-extended', bands=['F110W','F125W', 'F160W'],\n                                  params=['x0', 't0','x1','c'], \n                                  constants={'z': 1.5},\n                                  bounds={'t0': (-40, 40),'c': (-1, 1), 'x1': (-2, 2)},\n                                  method='parallel', microlensing=None,\n                                  npoints=100, minsnr=5)\nprint('Time Delays:',fitCurves.parallel.time_delays)\nfitCurves.plot_object(showFit=True,showMicro=True)"
      ]
    }
  ],
  "metadata": {
    "kernelspec": {
      "display_name": "Python 3",
      "language": "python",
      "name": "python3"
    },
    "language_info": {
      "codemirror_mode": {
        "name": "ipython",
        "version": 3
      },
      "file_extension": ".py",
      "mimetype": "text/x-python",
      "name": "python",
      "nbconvert_exporter": "python",
      "pygments_lexer": "ipython3",
      "version": "3.8.3"
    }
  },
  "nbformat": 4,
  "nbformat_minor": 0
}