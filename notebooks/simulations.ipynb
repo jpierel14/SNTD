{
 "cells": [
  {
   "cell_type": "code",
   "execution_count": null,
   "metadata": {
    "collapsed": true
   },
   "outputs": [],
   "source": [
    "import sys\n",
    "try:\n",
    "    import sntd\n",
    "except:\n",
    "    try:\n",
    "        sys.path.append('../')\n",
    "        import sntd\n",
    "    except:\n",
    "        !pip install sntd\n",
    "        import sntd\n",
    "import numpy as np\n",
    "import matplotlib.pyplot as plt"
   ]
  },
  {
   "cell_type": "code",
   "execution_count": null,
   "metadata": {},
   "outputs": [],
   "source": [
    "##create a simple MISN and plot\n",
    "myMISN = sntd.createMultiplyImagedSN(sourcename='salt2-extended', snType='Ia', redshift=1.33,z_lens=.53, bands=['F110W','F125W'],\n",
    "              zp=[26.8,26.2], cadence=5., epochs=35.,time_delays=[10., 70.], magnifications=[7,3.5],\n",
    "              objectName='My Type Ia SN',telescopename='HST')\n",
    "print(myMISN)\n",
    "myMISN.plot_object()\n",
    "plt.show()"
   ]
  },
  {
   "cell_type": "code",
   "execution_count": null,
   "metadata": {},
   "outputs": [],
   "source": [
    "myMISN = sntd.createMultiplyImagedSN(sourcename='salt2-extended', snType='Ia', redshift=1.33,z_lens=.53, bands=['F110W','F125W'],\n",
    "              zp=[26.8,26.2],start_time=55000, cadence=5., epochs=35.,time_delays=[10., 70.], magnifications=[7,3.5],\n",
    "              objectName='My Type Ia SN',telescopename='HST')\n",
    "print(myMISN)\n",
    "myMISN.plot_object()\n",
    "plt.show()"
   ]
  },
  {
   "cell_type": "code",
   "execution_count": null,
   "metadata": {},
   "outputs": [],
   "source": [
    "##simulation with specified time array\n",
    "time_array=np.arange(55000,55300,5)\n",
    "myMISN = sntd.createMultiplyImagedSN(sourcename='salt2-extended', snType='Ia', redshift=1.33,z_lens=.53, bands=['F110W','F125W'],\n",
    "              zp=[26.8,26.2], timeArr=time_array,time_delays=[10., 70.], magnifications=[7,3.5],\n",
    "              objectName='My Type Ia SN',telescopename='HST')\n",
    "print(myMISN)\n",
    "myMISN.plot_object()\n",
    "plt.show()"
   ]
  },
  {
   "cell_type": "code",
   "execution_count": null,
   "metadata": {},
   "outputs": [],
   "source": [
    "##simulation with specified (constant) SNR\n",
    "SNR_dict={}\n",
    "for band in ['F110W','F125W']:\n",
    "    SNR_dict[band]=lambda mag:10 # this just needs to be a function accepting a magnitude and\n",
    "                                 # returning a SNR\n",
    "time_array=np.arange(55000,55300,5)\n",
    "myMISN = sntd.createMultiplyImagedSN(sourcename='salt2-extended', snType='Ia', redshift=1.33,z_lens=.53, bands=['F110W','F125W'],\n",
    "              zp=[26.8,26.2], timeArr=time_array,time_delays=[10., 70.], magnifications=[7,3.5],\n",
    "              objectName='My Type Ia SN',telescopename='HST',snrFunc=SNR_dict)\n",
    "myMISN.plot_object()\n",
    "plt.show()"
   ]
  },
  {
   "cell_type": "code",
   "execution_count": null,
   "metadata": {},
   "outputs": [],
   "source": [
    "##simulation with specified (non-constant) SNR\n",
    "from scipy.interpolate import interp1d \n",
    "mags=np.arange(18,30,.5) \n",
    "SNR_dict={'F110W':np.linspace(20,1,len(mags)), #some random curves for SNR by band (see plot)\n",
    "          'F125W':np.flip([(x/4)**2 for x in range(len(mags))])}\n",
    "SNR_funcs={'F110W':interp1d(mags,SNR_dict['F110W'],fill_value=0.5,bounds_error=False),\n",
    "           'F125W':interp1d(mags,SNR_dict['F125W'],fill_value=0.5,bounds_error=False)}\n",
    "            #you can leave the bounds error,\n",
    "            #but this helps with late time light\n",
    "            #curves\n",
    "plt.plot(mags,SNR_dict['F110W'],label=\"F110W\")\n",
    "plt.plot(mags,SNR_dict['F125W'],label=\"F125W\")\n",
    "plt.xlabel('Magnitude')\n",
    "plt.ylabel('SNR')\n",
    "plt.legend()\n",
    "plt.show()\n",
    "\n",
    "for band in ['F110W','F125W']:\n",
    "    SNR_dict[band]=interp1d(mags,SNR_dict[band])\n",
    "time_array=np.arange(55000,55300,5)\n",
    "myMISN = sntd.createMultiplyImagedSN(sourcename='salt2-extended', snType='Ia', redshift=1.33,z_lens=.53, bands=['F110W','F125W'],\n",
    "              zp=[26.8,26.2], timeArr=time_array,time_delays=[10., 70.], magnifications=[7,3.5],\n",
    "              objectName='My Type Ia SN',telescopename='HST',snrFunc=SNR_funcs)\n",
    "print(myMISN)\n",
    "myMISN.plot_object()\n",
    "plt.show()"
   ]
  },
  {
   "cell_type": "code",
   "execution_count": null,
   "metadata": {},
   "outputs": [],
   "source": [
    "##simulation with set SN parameter distributions\n",
    "def x1_func():\n",
    "    return(np.random.normal(1,.5))\n",
    "def c_func():\n",
    "    return(np.random.normal(-.05,.02))\n",
    "param_funcs={'x1':x1_func,'c':c_func}\n",
    "myMISN = sntd.createMultiplyImagedSN(sourcename='salt2-extended', snType='Ia', redshift=1.33,z_lens=.53, bands=['F110W','F125W'],\n",
    "              zp=[26.8,26.2], cadence=5., epochs=35.,time_delays=[10., 70.], magnifications=[7,3.5],\n",
    "              objectName='My Type Ia SN',telescopename='HST',sn_params=param_funcs)\n",
    "print(myMISN)\n",
    "myMISN.plot_object()\n",
    "plt.show()"
   ]
  },
  {
   "cell_type": "code",
   "execution_count": null,
   "metadata": {},
   "outputs": [],
   "source": [
    "##simulation with set dust parameter distributions\n",
    "def hostav_func():\n",
    "    return(np.random.normal(.5,.1))\n",
    "def lensav_func():\n",
    "    return(np.random.normal(.7,.2))\n",
    "param_funcs={'host':hostav_func,'lens':lensav_func}\n",
    "myMISN = sntd.createMultiplyImagedSN(sourcename='salt2-extended', snType='Ia', redshift=1.33,z_lens=.53, bands=['F110W','F125W'],\n",
    "              zp=[26.8,26.2], cadence=5., epochs=35.,time_delays=[10., 70.], magnifications=[7,3.5],\n",
    "              objectName='My Type Ia SN',telescopename='HST',av_dists=param_funcs)\n",
    "print(myMISN)\n",
    "myMISN.plot_object()\n",
    "plt.show()"
   ]
  },
  {
   "cell_type": "code",
   "execution_count": null,
   "metadata": {
    "collapsed": true
   },
   "outputs": [],
   "source": []
  }
 ],
 "metadata": {
  "kernelspec": {
   "display_name": "Python 3",
   "language": "python",
   "name": "python3"
  },
  "language_info": {
   "codemirror_mode": {
    "name": "ipython",
    "version": 3
   },
   "file_extension": ".py",
   "mimetype": "text/x-python",
   "name": "python",
   "nbconvert_exporter": "python",
   "pygments_lexer": "ipython3",
   "version": "3.6.8"
  }
 },
 "nbformat": 4,
 "nbformat_minor": 2
}
