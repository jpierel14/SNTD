{
 "cells": [
  {
   "cell_type": "code",
   "execution_count": 1,
   "metadata": {},
   "outputs": [],
   "source": [
    "import sys\n",
    "try:\n",
    "    import sntd\n",
    "except:\n",
    "    sys.path.append('../')\n",
    "    import sntd\n",
    "import numpy as np\n",
    "import matplotlib.pyplot as plt"
   ]
  },
  {
   "cell_type": "code",
   "execution_count": 2,
   "metadata": {},
   "outputs": [],
   "source": [
    "myMISN = sntd.createMultiplyImagedSN(sourcename='salt2-extended', snType='Ia', redshift=1.83,z_lens=.53, bands=['F110W','F125W','F140W','F160W'],\n",
    "              zp=[26.9,26.8,26.4,26.2], cadence=5., epochs=35.,time_delays=[20., 70.], magnifications=[4,6],scatter=True,\n",
    "              objectName='My Type Ia SN',telescopename='HST',numImages=2,av_host=False)"
   ]
  },
  {
   "cell_type": "code",
   "execution_count": 3,
   "metadata": {},
   "outputs": [
    {
     "name": "stdout",
     "output_type": "stream",
     "text": [
      "F125W-F110W -23.15015113188333 nan\n",
      "F140W-F125W -24.826350357027323 nan\n",
      "F140W-F110W -23.15015113188333 nan\n",
      "F125W-F110W -23.651319747354655 nan\n",
      "[] ['F140W' 'F110W']\n"
     ]
    },
    {
     "ename": "SystemExit",
     "evalue": "",
     "output_type": "error",
     "traceback": [
      "An exception has occurred, use %tb to see the full traceback.\n",
      "\u001b[0;31mSystemExit\u001b[0m\n"
     ]
    }
   ],
   "source": [
    "#normal parallel fit with some options set\n",
    "fitCurves=sntd.fit_data(myMISN,snType='Ia', models='salt2-extended',bands=['F814W','F110W','F125W','F140W'],\n",
    "            params=['x0','t0','x1','c'],constants={'z':1.83},refImage='image_1',cut_time=[-50,30],\n",
    "            bounds={'t0':(-20,20),'x1':(-3,3),'c':(-1,1),'td':(-20,20)},identify_micro=True,\n",
    "            fitOrder=['image_2','image_1'],fit_prior=None,trial_fit=True,minsnr=3,\n",
    "            method='parallel',microlensing=None,modelcov=False,npoints=100,clip_data=True,maxiter=None)\n",
    "fitCurves.plot_object(showFit=True)\n",
    "for im in fitCurves.images.keys():\n",
    "    fitCurves.plot_fit(par_image=im)\n",
    "print(fitCurves.parallel.time_delays)"
   ]
  },
  {
   "cell_type": "code",
   "execution_count": null,
   "metadata": {},
   "outputs": [],
   "source": []
  }
 ],
 "metadata": {
  "kernelspec": {
   "display_name": "Python 3",
   "language": "python",
   "name": "python3"
  },
  "language_info": {
   "codemirror_mode": {
    "name": "ipython",
    "version": 3
   },
   "file_extension": ".py",
   "mimetype": "text/x-python",
   "name": "python",
   "nbconvert_exporter": "python",
   "pygments_lexer": "ipython3",
   "version": "3.6.8"
  }
 },
 "nbformat": 4,
 "nbformat_minor": 2
}
