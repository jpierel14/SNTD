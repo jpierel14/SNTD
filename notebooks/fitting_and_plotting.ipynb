{
 "cells": [
  {
   "cell_type": "code",
   "execution_count": null,
   "metadata": {
    "collapsed": true
   },
   "outputs": [],
   "source": [
    "import sys\n",
    "try:\n",
    "    import sntd\n",
    "except:\n",
    "    try:\n",
    "        sys.path.append('../')\n",
    "        import sntd\n",
    "    except:\n",
    "        !pip install sntd\n",
    "        !pip install corner\n",
    "        import sntd\n",
    "import numpy as np\n",
    "import matplotlib.pyplot as plt"
   ]
  },
  {
   "cell_type": "code",
   "execution_count": null,
   "metadata": {
    "collapsed": true
   },
   "outputs": [],
   "source": [
    "myMISN = sntd.createMultiplyImagedSN(sourcename='salt2-extended', snType='Ia', redshift=1.33,z_lens=.53, bands=['F110W','F140W'],\n",
    "              zp=[26.8,26.2], cadence=5., epochs=35.,time_delays=[20., 70.], magnifications=[4,6],scatter=True,\n",
    "              objectName='My Type Ia SN',telescopename='HST',numImages=2,av_host=False)\n",
    "myMISN.plot_object()"
   ]
  },
  {
   "cell_type": "code",
   "execution_count": null,
   "metadata": {
    "collapsed": true
   },
   "outputs": [],
   "source": [
    "#normal parallel fit with some options set\n",
    "fitCurves=sntd.fit_data(myMISN,snType='Ia', models='salt2-extended',bands=['F110W','F140W'],\n",
    "            params=['x0','t0','x1','c'],constants={'z':1.33},refImage='image_1',cut_time=[-50,30],\n",
    "            bounds={'t0':(-20,20),'x1':(-3,3),'c':(-1,1)},\n",
    "            fitOrder=['image_2','image_1'],fit_prior=None,trial_fit=True,minsnr=3,\n",
    "            method='parallel',microlensing=None,modelcov=False,npoints=200,clip_data=True,\n",
    "                        maxiter=None)\n",
    "fitCurves.plot_object(showFit=True)\n",
    "for im in fitCurves.images.keys():\n",
    "    fitCurves.plot_fit(par_image=im)\n",
    "print(fitCurves.parallel.time_delays)"
   ]
  },
  {
   "cell_type": "code",
   "execution_count": null,
   "metadata": {
    "collapsed": true
   },
   "outputs": [],
   "source": []
  },
  {
   "cell_type": "code",
   "execution_count": null,
   "metadata": {
    "collapsed": true
   },
   "outputs": [],
   "source": [
    "#fitting all three methods consectutively, and independently\n",
    "\n",
    "fitCurves=sntd.fit_data(myMISN,snType='Ia', models='salt2-extended',bands=['F110W','F140W'],\n",
    "            params=['x0','t0','x1','c'],constants={'z':1.33},refImage='image_1',cut_time=[-50,30],\n",
    "            bounds={'t0':(-20,20),'x1':(-3,3),'c':(-1,1),'mu':(.5,2),'td':(-20,20)},minsnr=5,\n",
    "            fitOrder=['image_2','image_1'],fit_prior=None,\n",
    "            method=['parallel','series','color'],microlensing=None,modelcov=False,npoints=100,\n",
    "                        maxiter=None)\n",
    "print('parallel')\n",
    "print('-------------------')\n",
    "print(fitCurves.parallel.time_delays)\n",
    "print(fitCurves.parallel.time_delay_errors)\n",
    "print(fitCurves.parallel.magnifications)\n",
    "print(fitCurves.parallel.magnification_errors)\n",
    "fitCurves.plot_object(showFit=True,method='parallel')\n",
    "plt.show()\n",
    "fitCurves.plot_fit(method='parallel',par_image='image_1')\n",
    "plt.show()\n",
    "fitCurves.plot_fit(method='parallel',par_image='image_2')\n",
    "plt.show()\n",
    "print('series')\n",
    "print('-------------------')\n",
    "print(fitCurves.series.time_delays)\n",
    "print(fitCurves.series.time_delay_errors)\n",
    "print(fitCurves.series.magnifications)\n",
    "print(fitCurves.series.magnification_errors)\n",
    "fitCurves.plot_object(showFit=True,method='series')\n",
    "plt.show()\n",
    "fitCurves.plot_fit(method='series')\n",
    "plt.show()\n",
    "print('color')\n",
    "print('-------------------')\n",
    "print(fitCurves.color.time_delays)\n",
    "print(fitCurves.color.time_delay_errors)\n",
    "fitCurves.plot_object(showFit=True,method='color',bands=fitCurves.color.bands)\n",
    "plt.show()\n",
    "fitCurves.plot_fit(method='color')\n",
    "plt.show()"
   ]
  },
  {
   "cell_type": "code",
   "execution_count": null,
   "metadata": {
    "collapsed": true
   },
   "outputs": [],
   "source": [
    "myMISN2 = sntd.createMultiplyImagedSN(sourcename='salt2-extended', snType='Ia', redshift=1.33,z_lens=.53, bands=['F110W','F140W'],\n",
    "              zp=[26.8,26.2], cadence=5., epochs=35.,time_delays=[20., 70.], magnifications=[4,6],scatter=True,\n",
    "              objectName='My Type Ia SN',telescopename='HST',numImages=2,av_host=False)"
   ]
  },
  {
   "cell_type": "code",
   "execution_count": null,
   "metadata": {
    "collapsed": true
   },
   "outputs": [],
   "source": [
    "#fitting all three methods consectutively, using parallel as a prior\n",
    "\n",
    "fitCurves2=sntd.fit_data(myMISN2,snType='Ia', models='salt2-extended',bands=['F110W','F140W'],\n",
    "            params=['x0','t0','x1','c'],constants={'z':1.33},refImage='image_1',cut_time=[-50,30],\n",
    "            bounds={'t0':(-20,20),'x1':(-3,3),'c':(-1,1),'mu':(.5,2),'td':(-20,20)},minsnr=5,\n",
    "            fitOrder=['image_2','image_1'],fit_prior=fitCurves,\n",
    "            method=['parallel','series','color'],microlensing=None,modelcov=False,npoints=100,\n",
    "                        maxiter=None)\n",
    "print('parallel')\n",
    "print('-------------------')\n",
    "print(fitCurves2.parallel.time_delays)\n",
    "print(fitCurves2.parallel.time_delay_errors)\n",
    "print(fitCurves2.parallel.magnifications)\n",
    "print(fitCurves2.parallel.magnification_errors)\n",
    "fitCurves2.plot_object(showFit=True,method='parallel')\n",
    "plt.show()\n",
    "fitCurves2.plot_fit(method='parallel',par_image='image_1')\n",
    "plt.show()\n",
    "fitCurves2.plot_fit(method='parallel',par_image='image_2')\n",
    "plt.show()\n",
    "print('series')\n",
    "print('-------------------')\n",
    "print(fitCurves2.series.time_delays)\n",
    "print(fitCurves2.series.time_delay_errors)\n",
    "print(fitCurves2.series.magnifications)\n",
    "print(fitCurves2.series.magnification_errors)\n",
    "fitCurves2.plot_object(showFit=True,method='series')\n",
    "plt.show()\n",
    "fitCurves2.plot_fit(method='series')\n",
    "plt.show()\n",
    "print('color')\n",
    "print('-------------------')\n",
    "print(fitCurves2.color.time_delays)\n",
    "print(fitCurves2.color.time_delay_errors)\n",
    "fitCurves2.plot_object(showFit=True,method='color',bands=fitCurves2.color.bands)\n",
    "plt.show()\n",
    "fitCurves2.plot_fit(method='color')\n",
    "plt.show()\n"
   ]
  },
  {
   "cell_type": "code",
   "execution_count": null,
   "metadata": {
    "collapsed": true
   },
   "outputs": [],
   "source": [
    "#normal parallel fit with some options set\n",
    "fitCurves=sntd.fit_data(myMISN,snType='Ia', models='Bazin',bands=['F110W','F140W'],\n",
    "            params=['t0','amplitude','B','rise','fall'],refImage='image_1',cut_time=[-50,30],\n",
    "            bounds={'t0':(-20,20),'amplitude':(.1,10),'rise':(10,100),'fall':(10,100),'B':(0,5)},\n",
    "            fitOrder=['image_2','image_1'],fit_prior=None,trial_fit=True,minsnr=3,\n",
    "            method='parallel',microlensing=None,modelcov=False,npoints=200,clip_data=True,\n",
    "                        maxiter=None)\n",
    "fitCurves.plot_object(showFit=True)\n",
    "for im in fitCurves.images.keys():\n",
    "    fitCurves.plot_fit(par_image=im)\n",
    "print(fitCurves.parallel.time_delays)"
   ]
  },
  {
   "cell_type": "code",
   "execution_count": null,
   "metadata": {
    "collapsed": true
   },
   "outputs": [],
   "source": [
    "#normal parallel fit using parameterized model\n",
    "fitCurves=sntd.fit_data(myMISN, models='Bazin',bands=['F110W'],\n",
    "            params=['t0','amplitude'],refImage='image_1',cut_time=None,#[-100,100],\n",
    "            bounds={'t0':(-20,20),'amplitude':(.1,100),'rise':(1,200),'fall':(1,200),'B':(0,1)},\n",
    "            fitOrder=['image_1','image_2'],minsnr=3,trial_fit=False,\n",
    "                        constants={'rise':8,'fall':38.5},\n",
    "            force_positive_param=['rise','fall'],\n",
    "            method='parallel',microlensing=None,modelcov=False,npoints=100,\n",
    "                        maxiter=None)\n",
    "fitCurves.plot_object(showFit=True)\n",
    "for im in fitCurves.images.keys():\n",
    "    fitCurves.plot_fit(method='parallel',par_image=im)\n",
    "plt.show()\n",
    "print(fitCurves.parallel.time_delays)"
   ]
  },
  {
   "cell_type": "code",
   "execution_count": null,
   "metadata": {
    "collapsed": true
   },
   "outputs": [],
   "source": [
    "#normal parallel fit with multiple models (unknown source)\n",
    "fitCurves=sntd.fit_data(new_MISN,snType='Ia', models=['salt2-extended','hsiao','snana-2004gq',\n",
    "            'snana-2004fe','snana-2004gv','snana-2007nc'],\n",
    "            bands=['F110W','F140W'],cut_time=[-500,30],\n",
    "            params=['x0','t0','x1','c','amplitude'],constants={'z':1.33},refImage='image_1',\n",
    "            bounds={'t0':(-20,20),'x1':(-3,3),'c':(-1,1),'td':(-20,20),'mu':(.5,2)},\n",
    "            fitOrder=['image_2','image_1'],trial_fit=True,minsnr=3,\n",
    "            method='parallel',microlensing=None,modelcov=False,npoints=50,clip_data=True,\n",
    "                        maxiter=None)\n",
    "fitCurves.plot_object(method='parallel',showFit=True)\n",
    "for im in fitCurves.images.keys():\n",
    "    fitCurves.plot_fit(method='parallel',par_image=im)\n",
    "print(fitCurves.parallel.time_delays)"
   ]
  },
  {
   "cell_type": "code",
   "execution_count": null,
   "metadata": {
    "collapsed": true
   },
   "outputs": [],
   "source": [
    "time=np.arange(-20,80,1)\n",
    "plt.plot(time,fitCurves.images['image_1'].fits.model.bandflux('F160W',time))\n",
    "fitCurves.images['image_1'].fits.model.set(t0=16)\n",
    "plt.plot(time,fitCurves.images['image_1'].fits.model.bandflux('F160W',time))\n"
   ]
  },
  {
   "cell_type": "code",
   "execution_count": null,
   "metadata": {
    "collapsed": true
   },
   "outputs": [],
   "source": []
  }
 ],
 "metadata": {
  "kernelspec": {
   "display_name": "Python 3",
   "language": "python",
   "name": "python3"
  },
  "language_info": {
   "codemirror_mode": {
    "name": "ipython",
    "version": 3
   },
   "file_extension": ".py",
   "mimetype": "text/x-python",
   "name": "python",
   "nbconvert_exporter": "python",
   "pygments_lexer": "ipython3",
   "version": "3.6.8"
  }
 },
 "nbformat": 4,
 "nbformat_minor": 2
}
