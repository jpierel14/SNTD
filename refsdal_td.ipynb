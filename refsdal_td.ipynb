{
 "cells": [
  {
   "cell_type": "code",
   "execution_count": 19,
   "metadata": {},
   "outputs": [],
   "source": [
    "import glob,os,sys,sncosmo\n",
    "#from sntd import models,fitting,io\n",
    "import sntd\n",
    "from copy import copy\n",
    "from astropy.table import vstack\n",
    "from astropy.io import ascii\n",
    "\n",
    "photometry='dolphot'\n",
    "\n",
    "if photometry=='dolphot':\n",
    "    files=glob.glob(os.path.join('data','pat_refsdal',photometry,'stringent','*.dat'))\n",
    "elif photometry=='hstphot':\n",
    "    files=glob.glob(os.path.join('data','pat_refsdal',photometry,'*.dat'))\n",
    "else:\n",
    "    raise RuntimeError(\"Photometry not recognized.\")"
   ]
  },
  {
   "cell_type": "code",
   "execution_count": 20,
   "metadata": {},
   "outputs": [
    {
     "name": "stdout",
     "output_type": "stream",
     "text": [
      "Telescope: Hubble\n",
      "Object: Refsdal_dolphot\n",
      "Number of bands: 1\n",
      "\n",
      "Metadata:\n",
      "info:\n",
      "\n",
      "------------------\n",
      "Image: S1:\n",
      "Bands: set(['F160W'])\n",
      "Date Range: 56621.99607->57750.90555\n",
      "Number of points: 66\n",
      "------------------\n",
      "Image: S2:\n",
      "Bands: set(['F160W'])\n",
      "Date Range: 56630.85412->57759.79335\n",
      "Number of points: 67\n",
      "------------------\n",
      "Image: S3:\n",
      "Bands: set(['F160W'])\n",
      "Date Range: 56574.27831->57703.18321\n",
      "Number of points: 65\n",
      "------------------\n",
      "Image: S4:\n",
      "Bands: set(['F160W'])\n",
      "Date Range: 56611.48774->57740.39963\n",
      "Number of points: 67\n",
      "------------------\n"
     ]
    }
   ],
   "source": [
    "bands=[]\n",
    "lcs=sntd.curveDict(telescopename='Hubble',object='Refsdal_'+photometry)\n",
    "images=['s1','s2','s3','s4']\n",
    "for im in images:\n",
    "    imTab=None\n",
    "    for f in [x for x in files if im in x]:\n",
    "        tab=ascii.read(f,comment='=')\n",
    "        tab.remove_column('flag')\n",
    "        tab.rename_column('mhjd','time')\n",
    "        band=f[f.find('_'+photometry)-5:f.find('_'+photometry)]\n",
    "        bands.append(band)\n",
    "        tab['band']=band\n",
    "        tab['zpsys']='ab'\n",
    "        tab['zp']=25.0\n",
    "        if imTab is None:\n",
    "            imTab=copy(tab)\n",
    "        else:\n",
    "            imTab=vstack([imTab,tab])\n",
    "    curve=sntd.table_factory(tab,telescopename='Hubble',object=f[5:7].upper())\n",
    "    lcs.add_curve(curve)\n",
    "print(lcs)\n",
    "    "
   ]
  },
  {
   "cell_type": "code",
   "execution_count": null,
   "metadata": {
    "collapsed": true
   },
   "outputs": [],
   "source": []
  }
 ],
 "metadata": {
  "kernelspec": {
   "display_name": "Python 2",
   "language": "python",
   "name": "python2"
  },
  "language_info": {
   "codemirror_mode": {
    "name": "ipython",
    "version": 2
   },
   "file_extension": ".py",
   "mimetype": "text/x-python",
   "name": "python",
   "nbconvert_exporter": "python",
   "pygments_lexer": "ipython2",
   "version": "2.7.13"
  }
 },
 "nbformat": 4,
 "nbformat_minor": 2
}
